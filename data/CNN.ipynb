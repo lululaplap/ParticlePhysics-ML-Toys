{
 "cells": [
  {
   "cell_type": "code",
   "execution_count": 1,
   "metadata": {},
   "outputs": [],
   "source": [
    "from trainModel import *\n",
    "from torchData import duneADCdata\n",
    "from torch.utils.data import random_split\n",
    "import matplotlib.pyplot as plt\n",
    "# from simpleCNN import Net\n",
    "from torchvision import datasets, transforms\n",
    "from torchData import duneADCdata, ToTensor\n",
    "torch.manual_seed(1516989)\n",
    "%matplotlib inline\n",
    "%config InlineBackend.print_figure_kwargs = {'bbox_inches':None}"
   ]
  },
  {
   "cell_type": "code",
   "execution_count": 2,
   "metadata": {},
   "outputs": [],
   "source": [
    "import torch\n",
    "from torchData import duneADCdata, ToTensor\n",
    "\n",
    "\n",
    "import torch.nn as nn\n",
    "import torch.nn.functional as F\n",
    "import torch.optim as optim\n",
    "from torch.utils.data import Dataset, DataLoader\n",
    "from torchvision import datasets, transforms\n",
    "import matplotlib.pyplot as plt\n",
    "\n",
    "class Net(nn.Module):\n",
    "    def __init__(self):\n",
    "        super(Net, self).__init__()\n",
    "        self.conv1 = nn.Conv2d(in_channels=1, out_channels=16, kernel_size=5,stride=1, padding=3)\n",
    "        self.pool = nn.MaxPool2d(kernel_size=5,stride=2,padding=2)\n",
    "        self.batchnorm =  nn.BatchNorm2d(32)\n",
    "        self.conv2 = nn.Conv2d(in_channels=16,out_channels=32 , kernel_size=3)\n",
    "        self.fc1 = nn.Linear(int(1500*1500*2),128)#int(1500*1500*0.25), 120)\n",
    "        self.fc2 = nn.Linear(128, 84)\n",
    "        self.fc3 = nn.Linear(84, 2)\n",
    "        self.drop = nn.Dropout2d(p=0.05)\n",
    "\n",
    "\n",
    "    def forward(self, x):\n",
    "        x = x.float()\n",
    "        x = self.pool(F.relu(self.conv1(x)))\n",
    "        x = self.drop(x)\n",
    "        x = self.pool(F.relu(self.conv2(x)))\n",
    "        x = self.batchnorm(x)\n",
    "        x = x.view(-1, self.num_flat_features(x))\n",
    "        x = F.relu(self.fc1(x))\n",
    "        x = F.relu(self.fc2(x))\n",
    "\n",
    "        x = F.softmax(self.fc3(x))\n",
    "#         print(x)\n",
    "        return x\n",
    "    def num_flat_features(self, x):\n",
    "        size = x.size()[1:]  # all dimensions except the batch dimension\n",
    "        num_features = 1\n",
    "        for s in size:\n",
    "            num_features *= s\n",
    "        return num_features\n"
   ]
  },
  {
   "cell_type": "code",
   "execution_count": 13,
   "metadata": {},
   "outputs": [],
   "source": [
    "net = Net()\n"
   ]
  },
  {
   "cell_type": "code",
   "execution_count": 18,
   "metadata": {},
   "outputs": [
    {
     "name": "stdout",
     "output_type": "stream",
     "text": [
      "32913\n",
      "2633\n"
     ]
    }
   ],
   "source": [
    "transform = transforms.Compose([ToTensor()])\n",
    "batch_size = 64\n",
    "n_epochs=10\n",
    "classes = [\"radio\",\"SNB\"]\n",
    "# data = duneADCdata(\"seconddata_cp.csv\", \"./\", transform=transform)\n",
    "# data = duneADCdata(\"bigdata_new.csv\", \"./\", transform=transform)\n",
    "data = duneADCdata(\"finalData.csv\", \"./\", transform=transform)\n",
    "\n",
    "# data = data[0:1000]\n",
    "\n",
    "print(len(data))\n",
    "lengths = [int(len(data)*0.8),int(len(data))-int(len(data)*0.8)]\n",
    "trainData, testData= random_split(data,lengths)\n",
    "n = 0.1\n",
    "lengths1 = [int(len(trainData)*n),int(len(trainData))-int(len(trainData)*n)]\n",
    "lengths2 = [int(len(testData)*n),int(len(testData))-int(len(testData)*n)]\n",
    "\n",
    "trainData,_ = random_split(trainData,lengths1)\n",
    "testData,_ = random_split(testData,lengths2)\n",
    "\n",
    "trainLoader = DataLoader(trainData, batch_size=batch_size, shuffle=True,num_workers=14)\n",
    "testLoader = DataLoader(testData, batch_size=batch_size, shuffle=True,num_workers=14)\n",
    "optimizer = optim.SGD(net.parameters(), lr=0.0001, momentum=0.9,weight_decay=0.0001)\n",
    "print(len(trainData))"
   ]
  },
  {
   "cell_type": "code",
   "execution_count": 19,
   "metadata": {
    "scrolled": true
   },
   "outputs": [
    {
     "name": "stdout",
     "output_type": "stream",
     "text": [
      "Epoch 1/10:\n",
      "[                                          "
     ]
    },
    {
     "name": "stderr",
     "output_type": "stream",
     "text": [
      "/home/lewis/.conda/envs/SparseAIEnv/lib/python3.7/site-packages/ipykernel_launcher.py:35: UserWarning: Implicit dimension choice for softmax has been deprecated. Change the call to include dim=X as an argument.\n"
     ]
    },
    {
     "name": "stdout",
     "output_type": "stream",
     "text": [
      "[1,     1] loss: 0.432\n",
      "[1,     2] loss: 0.380\n",
      "[1,     3] loss: 0.418\n",
      "[1,     4] loss: 0.423\n",
      "[1,     5] loss: 0.363\n",
      "[1,     6] loss: 0.337\n",
      "[1,     7] loss: 0.398\n",
      "[1,     8] loss: 0.428\n",
      "[1,     9] loss: 0.371\n",
      "[1,    10] loss: 0.383\n",
      "[1,    11] loss: 0.353\n",
      "[1,    12] loss: 0.353\n",
      "[1,    13] loss: 0.384\n",
      "[1,    14] loss: 0.373\n",
      "[1,    15] loss: 0.398\n",
      "[1,    16] loss: 0.375\n",
      "[1,    17] loss: 0.362\n",
      "[1,    18] loss: 0.357\n",
      "[1,    19] loss: 0.350\n",
      "[1,    20] loss: 0.400\n",
      "[1,    21] loss: 0.404\n",
      "[1,    22] loss: 0.353\n",
      "[1,    23] loss: 0.382\n",
      "[1,    24] loss: 0.410\n",
      "[1,    25] loss: 0.414\n",
      "[1,    26] loss: 0.359\n",
      "[1,    27] loss: 0.380\n",
      "[1,    28] loss: 0.377\n",
      "[1,    29] loss: 0.376\n",
      "[1,    30] loss: 0.345\n",
      "[1,    31] loss: 0.358\n",
      "[1,    32] loss: 0.369\n",
      "[1,    33] loss: 0.346\n",
      "[1,    34] loss: 0.366\n",
      "[1,    35] loss: 0.376\n",
      "[1,    36] loss: 0.385\n",
      "[1,    37] loss: 0.358\n",
      "[1,    38] loss: 0.377\n",
      "[1,    39] loss: 0.363\n",
      "[1,    40] loss: 0.368\n",
      "[1,    41] loss: 0.382\n",
      "[1,    42] loss: 0.425\n",
      "Epoch 2/10:\n",
      "[                                          [2,     1] loss: 0.356\n",
      "[2,     2] loss: 0.337\n",
      "[2,     3] loss: 0.339\n",
      "[2,     4] loss: 0.343\n",
      "[2,     5] loss: 0.365\n",
      "[2,     6] loss: 0.327\n",
      "[2,     7] loss: 0.364\n",
      "[2,     8] loss: 0.327\n",
      "[2,     9] loss: 0.337\n",
      "[2,    10] loss: 0.353\n",
      "[2,    11] loss: 0.325\n",
      "[2,    12] loss: 0.369\n",
      "[2,    13] loss: 0.325\n",
      "[2,    14] loss: 0.329\n",
      "[2,    15] loss: 0.338\n",
      "[2,    16] loss: 0.323\n",
      "[2,    17] loss: 0.336\n",
      "[2,    18] loss: 0.355\n",
      "[2,    19] loss: 0.376\n",
      "[2,    20] loss: 0.358\n",
      "[2,    21] loss: 0.341\n",
      "[2,    22] loss: 0.359\n",
      "[2,    23] loss: 0.345\n",
      "[2,    24] loss: 0.351\n",
      "[2,    25] loss: 0.323\n",
      "[2,    26] loss: 0.367\n",
      "[2,    27] loss: 0.353\n",
      "[2,    28] loss: 0.351\n",
      "[2,    29] loss: 0.342\n",
      "[2,    30] loss: 0.338\n",
      "[2,    31] loss: 0.338\n",
      "[2,    32] loss: 0.355\n",
      "[2,    33] loss: 0.321\n",
      "[2,    34] loss: 0.372\n",
      "[2,    35] loss: 0.338\n",
      "[2,    36] loss: 0.344\n",
      "[2,    37] loss: 0.353\n",
      "[2,    38] loss: 0.357\n",
      "[2,    39] loss: 0.352\n",
      "[2,    40] loss: 0.355\n",
      "[2,    41] loss: 0.369\n",
      "[2,    42] loss: 0.342\n",
      "Epoch 3/10:\n",
      "[                                          [3,     1] loss: 0.321\n",
      "[3,     2] loss: 0.325\n",
      "[3,     3] loss: 0.326\n",
      "[3,     4] loss: 0.327\n",
      "[3,     5] loss: 0.321\n",
      "[3,     6] loss: 0.330\n",
      "[3,     7] loss: 0.372\n",
      "[3,     8] loss: 0.337\n",
      "[3,     9] loss: 0.364\n",
      "[3,    10] loss: 0.321\n",
      "[3,    11] loss: 0.345\n",
      "[3,    12] loss: 0.337\n",
      "[3,    13] loss: 0.364\n",
      "[3,    14] loss: 0.348\n",
      "[3,    15] loss: 0.351\n",
      "[3,    16] loss: 0.346\n",
      "[3,    17] loss: 0.355\n",
      "[3,    18] loss: 0.321\n",
      "[3,    19] loss: 0.347\n",
      "[3,    20] loss: 0.349\n",
      "[3,    21] loss: 0.349\n",
      "[3,    22] loss: 0.332\n",
      "[3,    23] loss: 0.339\n",
      "[3,    24] loss: 0.328\n",
      "[3,    25] loss: 0.339\n",
      "[3,    26] loss: 0.333\n",
      "[3,    27] loss: 0.342\n",
      "[3,    28] loss: 0.335\n",
      "[3,    29] loss: 0.320\n",
      "[3,    30] loss: 0.351\n",
      "[3,    31] loss: 0.333\n",
      "[3,    32] loss: 0.341\n",
      "[3,    33] loss: 0.341\n",
      "[3,    34] loss: 0.334\n",
      "[3,    35] loss: 0.350\n",
      "[3,    36] loss: 0.325\n",
      "[3,    37] loss: 0.335\n",
      "[3,    38] loss: 0.331\n",
      "[3,    39] loss: 0.354\n",
      "[3,    40] loss: 0.323\n",
      "[3,    41] loss: 0.326\n",
      "[3,    42] loss: 0.425\n",
      "Epoch 4/10:\n",
      "[                                          [4,     1] loss: 0.339\n",
      "[4,     2] loss: 0.335\n",
      "[4,     3] loss: 0.336\n",
      "[4,     4] loss: 0.333\n",
      "[4,     5] loss: 0.378\n",
      "[4,     6] loss: 0.335\n",
      "[4,     7] loss: 0.318\n",
      "[4,     8] loss: 0.333\n",
      "[4,     9] loss: 0.328\n",
      "[4,    10] loss: 0.335\n",
      "[4,    11] loss: 0.317\n",
      "[4,    12] loss: 0.340\n",
      "[4,    13] loss: 0.334\n",
      "[4,    14] loss: 0.334\n",
      "[4,    15] loss: 0.349\n",
      "[4,    16] loss: 0.332\n",
      "[4,    17] loss: 0.332\n",
      "[4,    18] loss: 0.351\n",
      "[4,    19] loss: 0.334\n",
      "[4,    20] loss: 0.323\n",
      "[4,    21] loss: 0.332\n",
      "[4,    22] loss: 0.333\n",
      "[4,    23] loss: 0.348\n",
      "[4,    24] loss: 0.339\n",
      "[4,    25] loss: 0.338\n",
      "[4,    26] loss: 0.315\n",
      "[4,    27] loss: 0.327\n",
      "[4,    28] loss: 0.337\n",
      "[4,    29] loss: 0.351\n",
      "[4,    30] loss: 0.333\n",
      "[4,    31] loss: 0.331\n",
      "[4,    32] loss: 0.362\n",
      "[4,    33] loss: 0.318\n",
      "[4,    34] loss: 0.320\n",
      "[4,    35] loss: 0.336\n",
      "[4,    36] loss: 0.334\n",
      "[4,    37] loss: 0.337\n",
      "[4,    38] loss: 0.334\n",
      "[4,    39] loss: 0.317\n",
      "[4,    40] loss: 0.325\n",
      "[4,    41] loss: 0.336\n",
      "[4,    42] loss: 0.352\n",
      "Epoch 5/10:\n",
      "[                                          [5,     1] loss: 0.337\n",
      "[5,     2] loss: 0.336\n",
      "[5,     3] loss: 0.334\n",
      "[5,     4] loss: 0.347\n",
      "[5,     5] loss: 0.318\n",
      "[5,     6] loss: 0.335\n",
      "[5,     7] loss: 0.321\n",
      "[5,     8] loss: 0.334\n",
      "[5,     9] loss: 0.348\n",
      "[5,    10] loss: 0.328\n",
      "[5,    11] loss: 0.337\n",
      "[5,    12] loss: 0.351\n",
      "[5,    13] loss: 0.322\n",
      "[5,    14] loss: 0.318\n",
      "[5,    15] loss: 0.327\n",
      "[5,    16] loss: 0.347\n",
      "[5,    17] loss: 0.344\n",
      "[5,    18] loss: 0.335\n",
      "[5,    19] loss: 0.339\n",
      "[5,    20] loss: 0.319\n",
      "[5,    21] loss: 0.351\n",
      "[5,    22] loss: 0.339\n",
      "[5,    23] loss: 0.338\n",
      "[5,    24] loss: 0.320\n",
      "[5,    25] loss: 0.338\n",
      "[5,    26] loss: 0.334\n",
      "[5,    27] loss: 0.322\n",
      "[5,    28] loss: 0.330\n",
      "[5,    29] loss: 0.363\n",
      "[5,    30] loss: 0.320\n",
      "[5,    31] loss: 0.330\n",
      "[5,    32] loss: 0.317\n",
      "[5,    33] loss: 0.335\n",
      "[5,    34] loss: 0.332\n",
      "[5,    35] loss: 0.318\n",
      "[5,    36] loss: 0.329\n",
      "[5,    37] loss: 0.327\n",
      "[5,    38] loss: 0.322\n",
      "[5,    39] loss: 0.348\n",
      "[5,    40] loss: 0.331\n",
      "[5,    41] loss: 0.324\n",
      "[5,    42] loss: 0.329\n",
      "Epoch 6/10:\n",
      "[                                          [6,     1] loss: 0.369\n",
      "[6,     2] loss: 0.349\n",
      "[6,     3] loss: 0.333\n",
      "[6,     4] loss: 0.320\n",
      "[6,     5] loss: 0.332\n",
      "[6,     6] loss: 0.322\n",
      "[6,     7] loss: 0.345\n",
      "[6,     8] loss: 0.318\n",
      "[6,     9] loss: 0.326\n",
      "[6,    10] loss: 0.315\n",
      "[6,    11] loss: 0.334\n",
      "[6,    12] loss: 0.326\n",
      "[6,    13] loss: 0.316\n",
      "[6,    14] loss: 0.343\n",
      "[6,    15] loss: 0.351\n",
      "[6,    16] loss: 0.333\n",
      "[6,    17] loss: 0.366\n",
      "[6,    18] loss: 0.317\n",
      "[6,    19] loss: 0.324\n",
      "[6,    20] loss: 0.333\n",
      "[6,    21] loss: 0.329\n",
      "[6,    22] loss: 0.325\n",
      "[6,    23] loss: 0.320\n",
      "[6,    24] loss: 0.347\n",
      "[6,    25] loss: 0.333\n",
      "[6,    26] loss: 0.318\n",
      "[6,    27] loss: 0.329\n",
      "[6,    28] loss: 0.316\n",
      "[6,    29] loss: 0.334\n",
      "[6,    30] loss: 0.318\n",
      "[6,    31] loss: 0.323\n",
      "[6,    32] loss: 0.318\n",
      "[6,    33] loss: 0.332\n",
      "[6,    34] loss: 0.315\n",
      "[6,    35] loss: 0.332\n",
      "[6,    36] loss: 0.352\n",
      "[6,    37] loss: 0.318\n",
      "[6,    38] loss: 0.319\n",
      "[6,    39] loss: 0.335\n",
      "[6,    40] loss: 0.318\n",
      "[6,    41] loss: 0.364\n",
      "[6,    42] loss: 0.321\n",
      "Epoch 7/10:\n",
      "[                                          [7,     1] loss: 0.317\n",
      "[7,     2] loss: 0.332\n",
      "[7,     3] loss: 0.333\n",
      "[7,     4] loss: 0.335\n",
      "[7,     5] loss: 0.331\n",
      "[7,     6] loss: 0.333\n",
      "[7,     7] loss: 0.331\n",
      "[7,     8] loss: 0.347\n",
      "[7,     9] loss: 0.331\n",
      "[7,    10] loss: 0.335\n",
      "[7,    11] loss: 0.334\n",
      "[7,    12] loss: 0.358\n",
      "[7,    13] loss: 0.322\n",
      "[7,    14] loss: 0.333\n",
      "[7,    15] loss: 0.330\n",
      "[7,    16] loss: 0.315\n",
      "[7,    17] loss: 0.351\n",
      "[7,    18] loss: 0.331\n",
      "[7,    19] loss: 0.330\n",
      "[7,    20] loss: 0.325\n",
      "[7,    21] loss: 0.332\n",
      "[7,    22] loss: 0.336\n",
      "[7,    23] loss: 0.326\n",
      "[7,    24] loss: 0.334\n",
      "[7,    25] loss: 0.317\n",
      "[7,    26] loss: 0.321\n",
      "[7,    27] loss: 0.337\n",
      "[7,    28] loss: 0.331\n",
      "[7,    29] loss: 0.332\n",
      "[7,    30] loss: 0.334\n",
      "[7,    31] loss: 0.316\n",
      "[7,    32] loss: 0.328\n",
      "[7,    33] loss: 0.318\n",
      "[7,    34] loss: 0.320\n",
      "[7,    35] loss: 0.319\n",
      "[7,    36] loss: 0.323\n",
      "[7,    37] loss: 0.331\n",
      "[7,    38] loss: 0.334\n",
      "[7,    39] loss: 0.315\n",
      "[7,    40] loss: 0.317\n",
      "[7,    41] loss: 0.331\n",
      "[7,    42] loss: 0.343\n",
      "Epoch 8/10:\n",
      "[                                          [8,     1] loss: 0.317\n",
      "[8,     2] loss: 0.317\n",
      "[8,     3] loss: 0.330\n",
      "[8,     4] loss: 0.328\n",
      "[8,     5] loss: 0.317\n",
      "[8,     6] loss: 0.329\n",
      "[8,     7] loss: 0.316\n",
      "[8,     8] loss: 0.316\n",
      "[8,     9] loss: 0.317\n",
      "[8,    10] loss: 0.321\n",
      "[8,    11] loss: 0.332\n",
      "[8,    12] loss: 0.319\n",
      "[8,    13] loss: 0.321\n",
      "[8,    14] loss: 0.369\n",
      "[8,    15] loss: 0.333\n",
      "[8,    16] loss: 0.318\n",
      "[8,    17] loss: 0.331\n",
      "[8,    18] loss: 0.325\n",
      "[8,    19] loss: 0.332\n",
      "[8,    20] loss: 0.322\n",
      "[8,    21] loss: 0.315\n",
      "[8,    22] loss: 0.368\n",
      "[8,    23] loss: 0.336\n",
      "[8,    24] loss: 0.334\n",
      "[8,    25] loss: 0.331\n",
      "[8,    26] loss: 0.334\n",
      "[8,    27] loss: 0.357\n",
      "[8,    28] loss: 0.346\n",
      "[8,    29] loss: 0.316\n",
      "[8,    30] loss: 0.352\n",
      "[8,    31] loss: 0.321\n",
      "[8,    32] loss: 0.330\n",
      "[8,    33] loss: 0.332\n",
      "[8,    34] loss: 0.325\n",
      "[8,    35] loss: 0.342\n",
      "[8,    36] loss: 0.332\n",
      "[8,    37] loss: 0.316\n",
      "[8,    38] loss: 0.323\n",
      "[8,    39] loss: 0.331\n",
      "[8,    40] loss: 0.320\n",
      "[8,    41] loss: 0.352\n",
      "[8,    42] loss: 0.324\n",
      "Epoch 9/10:\n",
      "[                                          [9,     1] loss: 0.347\n",
      "[9,     2] loss: 0.347\n"
     ]
    },
    {
     "name": "stdout",
     "output_type": "stream",
     "text": [
      "[9,     3] loss: 0.316\n",
      "[9,     4] loss: 0.333\n",
      "[9,     5] loss: 0.327\n",
      "[9,     6] loss: 0.323\n",
      "[9,     7] loss: 0.346\n",
      "[9,     8] loss: 0.332\n",
      "[9,     9] loss: 0.315\n",
      "[9,    10] loss: 0.349\n",
      "[9,    11] loss: 0.335\n",
      "[9,    12] loss: 0.315\n",
      "[9,    13] loss: 0.318\n",
      "[9,    14] loss: 0.331\n",
      "[9,    15] loss: 0.324\n",
      "[9,    16] loss: 0.322\n",
      "[9,    17] loss: 0.316\n",
      "[9,    18] loss: 0.315\n",
      "[9,    19] loss: 0.346\n",
      "[9,    20] loss: 0.332\n",
      "[9,    21] loss: 0.316\n",
      "[9,    22] loss: 0.333\n",
      "[9,    23] loss: 0.320\n",
      "[9,    24] loss: 0.332\n",
      "[9,    25] loss: 0.331\n",
      "[9,    26] loss: 0.318\n",
      "[9,    27] loss: 0.321\n",
      "[9,    28] loss: 0.315\n",
      "[9,    29] loss: 0.334\n",
      "[9,    30] loss: 0.318\n",
      "[9,    31] loss: 0.331\n",
      "[9,    32] loss: 0.347\n",
      "[9,    33] loss: 0.324\n",
      "[9,    34] loss: 0.324\n",
      "[9,    35] loss: 0.332\n",
      "[9,    36] loss: 0.325\n",
      "[9,    37] loss: 0.315\n",
      "[9,    38] loss: 0.316\n",
      "[9,    39] loss: 0.315\n",
      "[9,    40] loss: 0.332\n",
      "[9,    41] loss: 0.362\n",
      "[9,    42] loss: 0.314\n",
      "Epoch 10/10:\n",
      "[                                          [10,     1] loss: 0.333\n",
      "[10,     2] loss: 0.322\n",
      "[10,     3] loss: 0.317\n",
      "[10,     4] loss: 0.340\n",
      "[10,     5] loss: 0.322\n",
      "[10,     6] loss: 0.325\n",
      "[10,     7] loss: 0.346\n",
      "[10,     8] loss: 0.331\n",
      "[10,     9] loss: 0.315\n",
      "[10,    10] loss: 0.319\n",
      "[10,    11] loss: 0.332\n",
      "[10,    12] loss: 0.331\n",
      "[10,    13] loss: 0.338\n",
      "[10,    14] loss: 0.342\n",
      "[10,    15] loss: 0.320\n",
      "[10,    16] loss: 0.315\n",
      "[10,    17] loss: 0.316\n",
      "[10,    18] loss: 0.331\n",
      "[10,    19] loss: 0.334\n",
      "[10,    20] loss: 0.350\n",
      "[10,    21] loss: 0.315\n",
      "[10,    22] loss: 0.347\n",
      "[10,    23] loss: 0.334\n",
      "[10,    24] loss: 0.315\n",
      "[10,    25] loss: 0.316\n",
      "[10,    26] loss: 0.320\n",
      "[10,    27] loss: 0.336\n",
      "[10,    28] loss: 0.328\n",
      "[10,    29] loss: 0.333\n",
      "[10,    30] loss: 0.317\n",
      "[10,    31] loss: 0.320\n",
      "[10,    32] loss: 0.331\n",
      "[10,    33] loss: 0.363\n",
      "[10,    34] loss: 0.314\n",
      "[10,    35] loss: 0.335\n",
      "[10,    36] loss: 0.331\n",
      "[10,    37] loss: 0.333\n",
      "[10,    38] loss: 0.314\n",
      "[10,    39] loss: 0.332\n",
      "[10,    40] loss: 0.331\n",
      "[10,    41] loss: 0.320\n",
      "[10,    42] loss: 0.319\n",
      "Finished Training\n"
     ]
    }
   ],
   "source": [
    "net,losses = train(net, trainLoader, optimizer, n_epochs=n_epochs,batch_size=batch_size)\n",
    "np.savetxt(\"CNNloss.txt\",losses)"
   ]
  },
  {
   "cell_type": "code",
   "execution_count": 17,
   "metadata": {},
   "outputs": [
    {
     "data": {
      "text/plain": [
       "<All keys matched successfully>"
      ]
     },
     "execution_count": 17,
     "metadata": {},
     "output_type": "execute_result"
    }
   ],
   "source": [
    "net.load_state_dict(torch.load(\"./model/model.pth\"))\n",
    "losses = np.loadtxt(losses)"
   ]
  },
  {
   "cell_type": "code",
   "execution_count": 20,
   "metadata": {},
   "outputs": [
    {
     "data": {
      "image/png": "[encoded data removed]",
      "text/plain": [
       "<Figure size 432x288 with 1 Axes>"
      ]
     },
     "metadata": {
      "needs_background": "light"
     },
     "output_type": "display_data"
    }
   ],
   "source": [
    "plt.plot(losses)\n",
    "plt.xlabel(\"iteration\")\n",
    "plt.ylabel(\"loss\")\n",
    "plt.show()"
   ]
  },
  {
   "cell_type": "code",
   "execution_count": 22,
   "metadata": {},
   "outputs": [
    {
     "name": "stdout",
     "output_type": "stream",
     "text": [
      "[0.37883445 0.34640447 0.34029475 0.33500506 0.33269079 0.33061464\n",
      " 0.32975785 0.32962863 0.32769355 0.32807258]\n"
     ]
    },
    {
     "data": {
      "image/png": "[encoded data removed]",
      "text/plain": [
       "<Figure size 432x288 with 1 Axes>"
      ]
     },
     "metadata": {
      "needs_background": "light"
     },
     "output_type": "display_data"
    },
    {
     "data": {
      "text/plain": [
       "<Figure size 432x288 with 0 Axes>"
      ]
     },
     "metadata": {},
     "output_type": "display_data"
    }
   ],
   "source": [
    "import numpy as np\n",
    "avg_losses = np.mean(np.reshape(np.array(losses),(n_epochs,-1)),axis=1)\n",
    "print(avg_losses)\n",
    "plt.plot(avg_losses)\n",
    "# plt.plot(losses)\n",
    "plt.xlabel(\"Batch\")\n",
    "plt.ylabel(\"loss\")\n",
    "plt.show()\n",
    "plt.show()\n",
    "plt.savefig(\"CNNloss.png\")"
   ]
  },
  {
   "cell_type": "code",
   "execution_count": null,
   "metadata": {},
   "outputs": [],
   "source": [
    "dataiter = iter(testLoader)\n",
    "true = []\n",
    "predict = []\n",
    "for data in dataiter:\n",
    "    images = data['input']\n",
    "    labels = data['target']\n",
    "    outputs = net(images)\n",
    "    _, predicted = torch.max(outputs, 1)\n",
    "    print('Predicted: ', ' '.join('%5s' % classes[predicted[j]]\n",
    "                              for j in range(4)))\n",
    "    predict.append(predicted)\n",
    "    true.append(labels)"
   ]
  },
  {
   "cell_type": "code",
   "execution_count": 26,
   "metadata": {},
   "outputs": [
    {
     "name": "stderr",
     "output_type": "stream",
     "text": [
      "/home/lewis/.conda/envs/SparseAIEnv/lib/python3.7/site-packages/ipykernel_launcher.py:9: DeprecationWarning: time.clock has been deprecated in Python 3.3 and will be removed from Python 3.8: use time.perf_counter or time.process_time instead\n",
      "  if __name__ == '__main__':\n",
      "/home/lewis/.conda/envs/SparseAIEnv/lib/python3.7/site-packages/ipykernel_launcher.py:35: UserWarning: Implicit dimension choice for softmax has been deprecated. Change the call to include dim=X as an argument.\n",
      "/home/lewis/.conda/envs/SparseAIEnv/lib/python3.7/site-packages/ipykernel_launcher.py:11: DeprecationWarning: time.clock has been deprecated in Python 3.3 and will be removed from Python 3.8: use time.perf_counter or time.process_time instead\n",
      "  # This is added back by InteractiveShellApp.init_path()\n"
     ]
    },
    {
     "name": "stdout",
     "output_type": "stream",
     "text": [
      "Average time per image: 187.1709090909201 pm 24.45644225491333\n"
     ]
    }
   ],
   "source": [
    "import time\n",
    "dataiter = iter(testLoader)\n",
    "true = []\n",
    "predict = []\n",
    "times = [[],[]]\n",
    "for d in dataiter:\n",
    "    images = d['input']\n",
    "    labels = d['target']\n",
    "    t = time.clock()\n",
    "    outputs = net(images)\n",
    "    t1 = time.clock()\n",
    "    times[0].append(t1-t)\n",
    "    times[1].append(len(d['target']))\n",
    "#     _, predicted = torch.max(outputs, 1)\n",
    "#     print('Predicted: ', ' '.join('%5s' % classes[predicted[j]]\n",
    "#                               for j in range(4)))\n",
    "#     predict.append(predicted)\n",
    "#     true.append(labels)\n",
    "    \n",
    "times_np = np.array(times)\n",
    "avgtime = np.mean(times_np[0])#/times_np[1])\n",
    "error = np.std(times_np[0])/np.sqrt(len(times))\n",
    "print(\"Average time per image: {} pm {}\".format(avgtime,error))"
   ]
  },
  {
   "cell_type": "code",
   "execution_count": 24,
   "metadata": {},
   "outputs": [
    {
     "name": "stdout",
     "output_type": "stream",
     "text": [
      "[[243.9  210.43 173.31 200.53 179.37 199.38 176.03 202.51 185.98 204.99\n",
      "   84.71]\n",
      " [  2.     2.     2.     2.     2.     2.     2.     2.     2.     2.\n",
      "    2.  ]]\n"
     ]
    }
   ],
   "source": [
    "print(times_np)"
   ]
  },
  {
   "cell_type": "code",
   "execution_count": 9,
   "metadata": {},
   "outputs": [
    {
     "name": "stderr",
     "output_type": "stream",
     "text": [
      "/home/lewis/.conda/envs/SparseAIEnv/lib/python3.7/site-packages/ipykernel_launcher.py:35: UserWarning: Implicit dimension choice for softmax has been deprecated. Change the call to include dim=X as an argument.\n"
     ]
    },
    {
     "name": "stdout",
     "output_type": "stream",
     "text": [
      "Accuracy of the network on the 10000 test images: 98 %\n",
      "SNB: 3752\n",
      "Radio: 2788\n"
     ]
    }
   ],
   "source": [
    "correct = 0\n",
    "total = 0\n",
    "snb = 0\n",
    "radio = 0\n",
    "outs = []\n",
    "labs = []\n",
    "with torch.no_grad():\n",
    "    for data in testLoader:\n",
    "        images = data['input']\n",
    "        labels = data['target']\n",
    "        outputs = net(images)\n",
    "        _, predicted = torch.max(outputs.data, 1)\n",
    "        outs.append(outputs.data)\n",
    "        labs.append(labels)\n",
    "        total += labels.size(0)\n",
    "        correct += (predicted == labels).sum().item()\n",
    "        snb += (predicted == 1).sum().item()\n",
    "        radio += (predicted == 0).sum().item()\n",
    "\n",
    "    \n",
    "print('Accuracy of the network on the 10000 test images: %d %%' % (\n",
    "    100 * correct / total))\n",
    "print(\"SNB: {}\".format(snb))\n",
    "print(\"Radio: {}\".format(radio))"
   ]
  },
  {
   "cell_type": "code",
   "execution_count": 22,
   "metadata": {},
   "outputs": [
    {
     "name": "stderr",
     "output_type": "stream",
     "text": [
      "/home/lewis/.conda/envs/SparseAIEnv/lib/python3.7/site-packages/ipykernel_launcher.py:35: UserWarning: Implicit dimension choice for softmax has been deprecated. Change the call to include dim=X as an argument.\n"
     ]
    },
    {
     "data": {
      "image/png": "[encoded data removed]",
      "text/plain": [
       "<Figure size 432x288 with 1 Axes>"
      ]
     },
     "metadata": {
      "needs_background": "light"
     },
     "output_type": "display_data"
    },
    {
     "name": "stdout",
     "output_type": "stream",
     "text": [
      "tensor([[254, 254, 254,  ..., 254, 254, 254],\n",
      "        [254, 254, 254,  ..., 254, 254, 254],\n",
      "        [254, 254, 254,  ..., 254, 254, 254],\n",
      "        ...,\n",
      "        [254, 254, 254,  ..., 254, 254, 254],\n",
      "        [254, 254, 254,  ..., 254, 254, 254],\n",
      "        [254, 254, 254,  ..., 254, 254, 254]], dtype=torch.uint8)\n"
     ]
    },
    {
     "data": {
      "image/png": "[encoded data removed]",
      "text/plain": [
       "<Figure size 432x288 with 1 Axes>"
      ]
     },
     "metadata": {
      "needs_background": "light"
     },
     "output_type": "display_data"
    },
    {
     "name": "stdout",
     "output_type": "stream",
     "text": [
      "tensor([[254, 254, 254,  ..., 254, 254, 254],\n",
      "        [254, 254, 254,  ..., 254, 254, 254],\n",
      "        [254, 254, 254,  ..., 254, 254, 254],\n",
      "        ...,\n",
      "        [254, 254, 254,  ..., 254, 254, 254],\n",
      "        [254, 254, 254,  ..., 254, 254, 254],\n",
      "        [254, 254, 254,  ..., 254, 254, 254]], dtype=torch.uint8)\n"
     ]
    },
    {
     "data": {
      "image/png": "[encoded data removed]",
      "text/plain": [
       "<Figure size 432x288 with 1 Axes>"
      ]
     },
     "metadata": {
      "needs_background": "light"
     },
     "output_type": "display_data"
    },
    {
     "name": "stdout",
     "output_type": "stream",
     "text": [
      "tensor([[0, 0, 0,  ..., 0, 0, 0],\n",
      "        [0, 0, 0,  ..., 0, 0, 0],\n",
      "        [0, 0, 0,  ..., 0, 0, 0],\n",
      "        ...,\n",
      "        [0, 0, 0,  ..., 0, 0, 0],\n",
      "        [0, 0, 0,  ..., 0, 0, 0],\n",
      "        [0, 0, 0,  ..., 0, 0, 0]], dtype=torch.uint8)\n"
     ]
    },
    {
     "data": {
      "image/png": "[encoded data removed]",
      "text/plain": [
       "<Figure size 432x288 with 1 Axes>"
      ]
     },
     "metadata": {
      "needs_background": "light"
     },
     "output_type": "display_data"
    },
    {
     "name": "stdout",
     "output_type": "stream",
     "text": [
      "tensor([[254, 254, 254,  ..., 254, 254, 254],\n",
      "        [254, 254, 254,  ..., 254, 254, 254],\n",
      "        [254, 254, 254,  ..., 254, 254, 254],\n",
      "        ...,\n",
      "        [254, 254, 254,  ..., 254, 254, 254],\n",
      "        [254, 254, 254,  ..., 254, 254, 254],\n",
      "        [254, 254, 254,  ..., 254, 254, 254]], dtype=torch.uint8)\n"
     ]
    },
    {
     "data": {
      "image/png": "[encoded data removed]",
      "text/plain": [
       "<Figure size 432x288 with 1 Axes>"
      ]
     },
     "metadata": {
      "needs_background": "light"
     },
     "output_type": "display_data"
    },
    {
     "name": "stdout",
     "output_type": "stream",
     "text": [
      "tensor([[254, 254, 254,  ..., 254, 254, 254],\n",
      "        [254, 254, 254,  ..., 254, 254, 254],\n",
      "        [254, 254, 254,  ..., 254, 254, 254],\n",
      "        ...,\n",
      "        [254, 254, 254,  ..., 254, 254, 254],\n",
      "        [254, 254, 254,  ..., 254, 254, 254],\n",
      "        [254, 254, 254,  ..., 254, 254, 254]], dtype=torch.uint8)\n"
     ]
    },
    {
     "ename": "KeyboardInterrupt",
     "evalue": "",
     "output_type": "error",
     "traceback": [
      "\u001b[0;31m---------------------------------------------------------------------------\u001b[0m",
      "\u001b[0;31mKeyboardInterrupt\u001b[0m                         Traceback (most recent call last)",
      "\u001b[0;32m<ipython-input-22-c0c0ba1f3641>\u001b[0m in \u001b[0;36m<module>\u001b[0;34m\u001b[0m\n\u001b[1;32m      7\u001b[0m         \u001b[0mlabels\u001b[0m \u001b[0;34m=\u001b[0m \u001b[0mdata\u001b[0m\u001b[0;34m[\u001b[0m\u001b[0;34m'target'\u001b[0m\u001b[0;34m]\u001b[0m\u001b[0;34m\u001b[0m\u001b[0;34m\u001b[0m\u001b[0m\n\u001b[1;32m      8\u001b[0m \u001b[0;34m\u001b[0m\u001b[0m\n\u001b[0;32m----> 9\u001b[0;31m         \u001b[0moutputs\u001b[0m \u001b[0;34m=\u001b[0m \u001b[0mnet\u001b[0m\u001b[0;34m(\u001b[0m\u001b[0mimages\u001b[0m\u001b[0;34m)\u001b[0m\u001b[0;34m\u001b[0m\u001b[0;34m\u001b[0m\u001b[0m\n\u001b[0m\u001b[1;32m     10\u001b[0m         \u001b[0m_\u001b[0m\u001b[0;34m,\u001b[0m \u001b[0mpredicted\u001b[0m \u001b[0;34m=\u001b[0m \u001b[0mtorch\u001b[0m\u001b[0;34m.\u001b[0m\u001b[0mmax\u001b[0m\u001b[0;34m(\u001b[0m\u001b[0moutputs\u001b[0m\u001b[0;34m,\u001b[0m \u001b[0;36m1\u001b[0m\u001b[0;34m)\u001b[0m\u001b[0;34m\u001b[0m\u001b[0;34m\u001b[0m\u001b[0m\n\u001b[1;32m     11\u001b[0m         \u001b[0mc\u001b[0m \u001b[0;34m=\u001b[0m \u001b[0;34m(\u001b[0m\u001b[0mpredicted\u001b[0m \u001b[0;34m==\u001b[0m \u001b[0mlabels\u001b[0m\u001b[0;34m)\u001b[0m\u001b[0;34m.\u001b[0m\u001b[0msqueeze\u001b[0m\u001b[0;34m(\u001b[0m\u001b[0;34m)\u001b[0m\u001b[0;34m\u001b[0m\u001b[0;34m\u001b[0m\u001b[0m\n",
      "\u001b[0;32m~/.conda/envs/SparseAIEnv/lib/python3.7/site-packages/torch/nn/modules/module.py\u001b[0m in \u001b[0;36m__call__\u001b[0;34m(self, *input, **kwargs)\u001b[0m\n\u001b[1;32m    539\u001b[0m             \u001b[0mresult\u001b[0m \u001b[0;34m=\u001b[0m \u001b[0mself\u001b[0m\u001b[0;34m.\u001b[0m\u001b[0m_slow_forward\u001b[0m\u001b[0;34m(\u001b[0m\u001b[0;34m*\u001b[0m\u001b[0minput\u001b[0m\u001b[0;34m,\u001b[0m \u001b[0;34m**\u001b[0m\u001b[0mkwargs\u001b[0m\u001b[0;34m)\u001b[0m\u001b[0;34m\u001b[0m\u001b[0;34m\u001b[0m\u001b[0m\n\u001b[1;32m    540\u001b[0m         \u001b[0;32melse\u001b[0m\u001b[0;34m:\u001b[0m\u001b[0;34m\u001b[0m\u001b[0;34m\u001b[0m\u001b[0m\n\u001b[0;32m--> 541\u001b[0;31m             \u001b[0mresult\u001b[0m \u001b[0;34m=\u001b[0m \u001b[0mself\u001b[0m\u001b[0;34m.\u001b[0m\u001b[0mforward\u001b[0m\u001b[0;34m(\u001b[0m\u001b[0;34m*\u001b[0m\u001b[0minput\u001b[0m\u001b[0;34m,\u001b[0m \u001b[0;34m**\u001b[0m\u001b[0mkwargs\u001b[0m\u001b[0;34m)\u001b[0m\u001b[0;34m\u001b[0m\u001b[0;34m\u001b[0m\u001b[0m\n\u001b[0m\u001b[1;32m    542\u001b[0m         \u001b[0;32mfor\u001b[0m \u001b[0mhook\u001b[0m \u001b[0;32min\u001b[0m \u001b[0mself\u001b[0m\u001b[0;34m.\u001b[0m\u001b[0m_forward_hooks\u001b[0m\u001b[0;34m.\u001b[0m\u001b[0mvalues\u001b[0m\u001b[0;34m(\u001b[0m\u001b[0;34m)\u001b[0m\u001b[0;34m:\u001b[0m\u001b[0;34m\u001b[0m\u001b[0;34m\u001b[0m\u001b[0m\n\u001b[1;32m    543\u001b[0m             \u001b[0mhook_result\u001b[0m \u001b[0;34m=\u001b[0m \u001b[0mhook\u001b[0m\u001b[0;34m(\u001b[0m\u001b[0mself\u001b[0m\u001b[0;34m,\u001b[0m \u001b[0minput\u001b[0m\u001b[0;34m,\u001b[0m \u001b[0mresult\u001b[0m\u001b[0;34m)\u001b[0m\u001b[0;34m\u001b[0m\u001b[0;34m\u001b[0m\u001b[0m\n",
      "\u001b[0;32m<ipython-input-2-68eb37559d11>\u001b[0m in \u001b[0;36mforward\u001b[0;34m(self, x)\u001b[0m\n\u001b[1;32m     25\u001b[0m     \u001b[0;32mdef\u001b[0m \u001b[0mforward\u001b[0m\u001b[0;34m(\u001b[0m\u001b[0mself\u001b[0m\u001b[0;34m,\u001b[0m \u001b[0mx\u001b[0m\u001b[0;34m)\u001b[0m\u001b[0;34m:\u001b[0m\u001b[0;34m\u001b[0m\u001b[0;34m\u001b[0m\u001b[0m\n\u001b[1;32m     26\u001b[0m         \u001b[0mx\u001b[0m \u001b[0;34m=\u001b[0m \u001b[0mx\u001b[0m\u001b[0;34m.\u001b[0m\u001b[0mfloat\u001b[0m\u001b[0;34m(\u001b[0m\u001b[0;34m)\u001b[0m\u001b[0;34m\u001b[0m\u001b[0;34m\u001b[0m\u001b[0m\n\u001b[0;32m---> 27\u001b[0;31m         \u001b[0mx\u001b[0m \u001b[0;34m=\u001b[0m \u001b[0mself\u001b[0m\u001b[0;34m.\u001b[0m\u001b[0mpool\u001b[0m\u001b[0;34m(\u001b[0m\u001b[0mF\u001b[0m\u001b[0;34m.\u001b[0m\u001b[0mrelu\u001b[0m\u001b[0;34m(\u001b[0m\u001b[0mself\u001b[0m\u001b[0;34m.\u001b[0m\u001b[0mconv1\u001b[0m\u001b[0;34m(\u001b[0m\u001b[0mx\u001b[0m\u001b[0;34m)\u001b[0m\u001b[0;34m)\u001b[0m\u001b[0;34m)\u001b[0m\u001b[0;34m\u001b[0m\u001b[0;34m\u001b[0m\u001b[0m\n\u001b[0m\u001b[1;32m     28\u001b[0m         \u001b[0mx\u001b[0m \u001b[0;34m=\u001b[0m \u001b[0mself\u001b[0m\u001b[0;34m.\u001b[0m\u001b[0mdrop\u001b[0m\u001b[0;34m(\u001b[0m\u001b[0mx\u001b[0m\u001b[0;34m)\u001b[0m\u001b[0;34m\u001b[0m\u001b[0;34m\u001b[0m\u001b[0m\n\u001b[1;32m     29\u001b[0m         \u001b[0mx\u001b[0m \u001b[0;34m=\u001b[0m \u001b[0mself\u001b[0m\u001b[0;34m.\u001b[0m\u001b[0mpool\u001b[0m\u001b[0;34m(\u001b[0m\u001b[0mF\u001b[0m\u001b[0;34m.\u001b[0m\u001b[0mrelu\u001b[0m\u001b[0;34m(\u001b[0m\u001b[0mself\u001b[0m\u001b[0;34m.\u001b[0m\u001b[0mconv2\u001b[0m\u001b[0;34m(\u001b[0m\u001b[0mx\u001b[0m\u001b[0;34m)\u001b[0m\u001b[0;34m)\u001b[0m\u001b[0;34m)\u001b[0m\u001b[0;34m\u001b[0m\u001b[0;34m\u001b[0m\u001b[0m\n",
      "\u001b[0;32m~/.conda/envs/SparseAIEnv/lib/python3.7/site-packages/torch/nn/modules/module.py\u001b[0m in \u001b[0;36m__call__\u001b[0;34m(self, *input, **kwargs)\u001b[0m\n\u001b[1;32m    539\u001b[0m             \u001b[0mresult\u001b[0m \u001b[0;34m=\u001b[0m \u001b[0mself\u001b[0m\u001b[0;34m.\u001b[0m\u001b[0m_slow_forward\u001b[0m\u001b[0;34m(\u001b[0m\u001b[0;34m*\u001b[0m\u001b[0minput\u001b[0m\u001b[0;34m,\u001b[0m \u001b[0;34m**\u001b[0m\u001b[0mkwargs\u001b[0m\u001b[0;34m)\u001b[0m\u001b[0;34m\u001b[0m\u001b[0;34m\u001b[0m\u001b[0m\n\u001b[1;32m    540\u001b[0m         \u001b[0;32melse\u001b[0m\u001b[0;34m:\u001b[0m\u001b[0;34m\u001b[0m\u001b[0;34m\u001b[0m\u001b[0m\n\u001b[0;32m--> 541\u001b[0;31m             \u001b[0mresult\u001b[0m \u001b[0;34m=\u001b[0m \u001b[0mself\u001b[0m\u001b[0;34m.\u001b[0m\u001b[0mforward\u001b[0m\u001b[0;34m(\u001b[0m\u001b[0;34m*\u001b[0m\u001b[0minput\u001b[0m\u001b[0;34m,\u001b[0m \u001b[0;34m**\u001b[0m\u001b[0mkwargs\u001b[0m\u001b[0;34m)\u001b[0m\u001b[0;34m\u001b[0m\u001b[0;34m\u001b[0m\u001b[0m\n\u001b[0m\u001b[1;32m    542\u001b[0m         \u001b[0;32mfor\u001b[0m \u001b[0mhook\u001b[0m \u001b[0;32min\u001b[0m \u001b[0mself\u001b[0m\u001b[0;34m.\u001b[0m\u001b[0m_forward_hooks\u001b[0m\u001b[0;34m.\u001b[0m\u001b[0mvalues\u001b[0m\u001b[0;34m(\u001b[0m\u001b[0;34m)\u001b[0m\u001b[0;34m:\u001b[0m\u001b[0;34m\u001b[0m\u001b[0;34m\u001b[0m\u001b[0m\n\u001b[1;32m    543\u001b[0m             \u001b[0mhook_result\u001b[0m \u001b[0;34m=\u001b[0m \u001b[0mhook\u001b[0m\u001b[0;34m(\u001b[0m\u001b[0mself\u001b[0m\u001b[0;34m,\u001b[0m \u001b[0minput\u001b[0m\u001b[0;34m,\u001b[0m \u001b[0mresult\u001b[0m\u001b[0;34m)\u001b[0m\u001b[0;34m\u001b[0m\u001b[0;34m\u001b[0m\u001b[0m\n",
      "\u001b[0;32m~/.conda/envs/SparseAIEnv/lib/python3.7/site-packages/torch/nn/modules/pooling.py\u001b[0m in \u001b[0;36mforward\u001b[0;34m(self, input)\u001b[0m\n\u001b[1;32m    139\u001b[0m         return F.max_pool2d(input, self.kernel_size, self.stride,\n\u001b[1;32m    140\u001b[0m                             \u001b[0mself\u001b[0m\u001b[0;34m.\u001b[0m\u001b[0mpadding\u001b[0m\u001b[0;34m,\u001b[0m \u001b[0mself\u001b[0m\u001b[0;34m.\u001b[0m\u001b[0mdilation\u001b[0m\u001b[0;34m,\u001b[0m \u001b[0mself\u001b[0m\u001b[0;34m.\u001b[0m\u001b[0mceil_mode\u001b[0m\u001b[0;34m,\u001b[0m\u001b[0;34m\u001b[0m\u001b[0;34m\u001b[0m\u001b[0m\n\u001b[0;32m--> 141\u001b[0;31m                             self.return_indices)\n\u001b[0m\u001b[1;32m    142\u001b[0m \u001b[0;34m\u001b[0m\u001b[0m\n\u001b[1;32m    143\u001b[0m \u001b[0;34m\u001b[0m\u001b[0m\n",
      "\u001b[0;32m~/.conda/envs/SparseAIEnv/lib/python3.7/site-packages/torch/_jit_internal.py\u001b[0m in \u001b[0;36mfn\u001b[0;34m(*args, **kwargs)\u001b[0m\n\u001b[1;32m    136\u001b[0m             \u001b[0;32mreturn\u001b[0m \u001b[0mif_true\u001b[0m\u001b[0;34m(\u001b[0m\u001b[0;34m*\u001b[0m\u001b[0margs\u001b[0m\u001b[0;34m,\u001b[0m \u001b[0;34m**\u001b[0m\u001b[0mkwargs\u001b[0m\u001b[0;34m)\u001b[0m\u001b[0;34m\u001b[0m\u001b[0;34m\u001b[0m\u001b[0m\n\u001b[1;32m    137\u001b[0m         \u001b[0;32melse\u001b[0m\u001b[0;34m:\u001b[0m\u001b[0;34m\u001b[0m\u001b[0;34m\u001b[0m\u001b[0m\n\u001b[0;32m--> 138\u001b[0;31m             \u001b[0;32mreturn\u001b[0m \u001b[0mif_false\u001b[0m\u001b[0;34m(\u001b[0m\u001b[0;34m*\u001b[0m\u001b[0margs\u001b[0m\u001b[0;34m,\u001b[0m \u001b[0;34m**\u001b[0m\u001b[0mkwargs\u001b[0m\u001b[0;34m)\u001b[0m\u001b[0;34m\u001b[0m\u001b[0;34m\u001b[0m\u001b[0m\n\u001b[0m\u001b[1;32m    139\u001b[0m \u001b[0;34m\u001b[0m\u001b[0m\n\u001b[1;32m    140\u001b[0m     \u001b[0;32mif\u001b[0m \u001b[0mif_true\u001b[0m\u001b[0;34m.\u001b[0m\u001b[0m__doc__\u001b[0m \u001b[0;32mis\u001b[0m \u001b[0;32mNone\u001b[0m \u001b[0;32mand\u001b[0m \u001b[0mif_false\u001b[0m\u001b[0;34m.\u001b[0m\u001b[0m__doc__\u001b[0m \u001b[0;32mis\u001b[0m \u001b[0;32mnot\u001b[0m \u001b[0;32mNone\u001b[0m\u001b[0;34m:\u001b[0m\u001b[0;34m\u001b[0m\u001b[0;34m\u001b[0m\u001b[0m\n",
      "\u001b[0;32m~/.conda/envs/SparseAIEnv/lib/python3.7/site-packages/torch/nn/functional.py\u001b[0m in \u001b[0;36m_max_pool2d\u001b[0;34m(input, kernel_size, stride, padding, dilation, ceil_mode, return_indices)\u001b[0m\n\u001b[1;32m    486\u001b[0m         \u001b[0mstride\u001b[0m \u001b[0;34m=\u001b[0m \u001b[0mtorch\u001b[0m\u001b[0;34m.\u001b[0m\u001b[0mjit\u001b[0m\u001b[0;34m.\u001b[0m\u001b[0mannotate\u001b[0m\u001b[0;34m(\u001b[0m\u001b[0mList\u001b[0m\u001b[0;34m[\u001b[0m\u001b[0mint\u001b[0m\u001b[0;34m]\u001b[0m\u001b[0;34m,\u001b[0m \u001b[0;34m[\u001b[0m\u001b[0;34m]\u001b[0m\u001b[0;34m)\u001b[0m\u001b[0;34m\u001b[0m\u001b[0;34m\u001b[0m\u001b[0m\n\u001b[1;32m    487\u001b[0m     return torch.max_pool2d(\n\u001b[0;32m--> 488\u001b[0;31m         input, kernel_size, stride, padding, dilation, ceil_mode)\n\u001b[0m\u001b[1;32m    489\u001b[0m \u001b[0;34m\u001b[0m\u001b[0m\n\u001b[1;32m    490\u001b[0m max_pool2d = boolean_dispatch(\n",
      "\u001b[0;31mKeyboardInterrupt\u001b[0m: "
     ]
    }
   ],
   "source": [
    "from sklearn.metrics import confusion_matrix\n",
    "class_correct = list(0. for i in range(2))\n",
    "class_total = list(0. for i in range(2))\n",
    "with torch.no_grad():\n",
    "    for data in testLoader:\n",
    "        images = data['input']\n",
    "        labels = data['target']\n",
    "        \n",
    "        outputs = net(images)\n",
    "        _, predicted = torch.max(outputs, 1)\n",
    "        c = (predicted == labels).squeeze()\n",
    "        \n",
    "        for i in range(len(labels)):\n",
    "            if predicted[i] != labels[i]:\n",
    "                plt.imshow(images[i].reshape((1500,1500)))\n",
    "                plt.title(\"Predicted: {}\\nActual: {}\\nScore: {}%\".format(predicted[i],labels[i],outputs[i][predicted[i]]*100))\n",
    "                plt.show()\n",
    "                print(images[i].reshape((1500,1500)))\n",
    "        for i in range(2):\n",
    "            label = classes[i]\n",
    "            class_correct[i] += c[i].item()\n",
    "            class_total[i] += 1\n",
    "\n",
    "\n",
    "for i in range(2):\n",
    "    print('Accuracy of %5s : %5d %%' % (\n",
    "        classes[i], 100 * class_correct[i] / class_total[i]))\n",
    "\n"
   ]
  },
  {
   "cell_type": "code",
   "execution_count": null,
   "metadata": {},
   "outputs": [],
   "source": [
    "import seaborn as sn\n",
    "df_cm = pd.DataFrame(cm, range(6), range(6))\n",
    "# plt.figure(figsize=(10,7))\n",
    "sn.set(font_scale=1.4) # for label size\n",
    "sn.heatmap(df_cm, annot=True, annot_kws={\"size\": 16}) # font size\n",
    "plt.show()"
   ]
  },
  {
   "cell_type": "code",
   "execution_count": 106,
   "metadata": {
    "scrolled": true
   },
   "outputs": [
    {
     "name": "stdout",
     "output_type": "stream",
     "text": [
      "No Skill: ROC AUC=0.500\n",
      "Logistic: ROC AUC=0.978\n"
     ]
    },
    {
     "data": {
      "image/png": "[encoded data removed]",
      "text/plain": [
       "<Figure size 432x288 with 1 Axes>"
      ]
     },
     "metadata": {
      "needs_background": "light"
     },
     "output_type": "display_data"
    }
   ],
   "source": [
    "# import seaborn as sn\n",
    "from sklearn.metrics import roc_curve, auc\n",
    "from sklearn.metrics import roc_auc_score\n",
    "Y_test = torch.cat(labs).numpy()\n",
    "ns_probs = [0 for _ in range(len(Y_test))]\n",
    "lr_probs = torch.cat(outs).numpy()[:,1]\n",
    "\n",
    "# keep probabilities for the positive outcome only\n",
    "# lr_probs = lr_probs[:, 1]\n",
    "# calculate scores\n",
    "ns_auc = roc_auc_score(Y_test, ns_probs)\n",
    "lr_auc = roc_auc_score(Y_test, lr_probs)\n",
    "# summarize scores\n",
    "print('No Skill: ROC AUC=%.3f' % (ns_auc))\n",
    "print('Logistic: ROC AUC=%.3f' % (lr_auc))\n",
    "# calculate roc curves\n",
    "ns_fpr, ns_tpr, _ = roc_curve(Y_test, ns_probs)\n",
    "lr_fpr, lr_tpr, _ = roc_curve(Y_test, lr_probs)\n",
    "# plot the roc curve for the model\n",
    "plt.plot(ns_fpr, ns_tpr, linestyle='--', label='No Skill')\n",
    "plt.plot(lr_fpr, lr_tpr, marker='.',markersize=2,linewidth=1, label='CNN')\n",
    "# axis labels\n",
    "plt.xlabel('False Positive Rate')\n",
    "plt.ylabel('True Positive Rate')\n",
    "# show the legend\n",
    "plt.legend()\n",
    "# show the plot\n",
    "# plt.show()\n",
    "plt.savefig(\"CNNroc1.png\",dpi=500,bbox_inches='tight')\n",
    "# plt.xlim(0,0.001)\n",
    "plt.show()"
   ]
  },
  {
   "cell_type": "code",
   "execution_count": null,
   "metadata": {},
   "outputs": [],
   "source": [
    "from torch.utils.tensorboard import SummaryWriter\n",
    "# from tensorboard.summary.writer.record_writer import RecordWriter\n",
    "# default `log_dir` is \"runs\" - we'll be more specific here\n",
    "writer = SummaryWriter(\"runs/CNN\")\n",
    "# import tensorboard"
   ]
  },
  {
   "cell_type": "code",
   "execution_count": null,
   "metadata": {},
   "outputs": [],
   "source": [
    "https://www.facebook.com/groups/2009507865950023/permalink/2716336138600522/dataiter = iter(trainLoader)\n",
    "data = dataiter.next()\n"
   ]
  },
  {
   "cell_type": "code",
   "execution_count": null,
   "metadata": {},
   "outputs": [],
   "source": [
    "\n",
    "writer.add_graph(net, data['input'])\n",
    "# writer.close()"
   ]
  },
  {
   "cell_type": "code",
   "execution_count": null,
   "metadata": {},
   "outputs": [],
   "source": [
    "#taken from Andreas Sogaard DAML helper code\n",
    "# from . import plot\n",
    "# from . import utilities    as _utilities\n",
    "# from . import optimisation as _optimisation\n",
    "# from . import _internal# from . import optimisation\n",
    "\n",
    "def roc (*clfs, y=None, pred=None, target_eff=0.5, scale='log',xlim=[0,1]):\n",
    "    \"\"\"\n",
    "    Plot the so-called receiver operating characteristic (ROC) curve(s) for the \n",
    "    classifier(s) `clfs`.\n",
    "    \n",
    "    Arguments:\n",
    "        clfs: Variable-length list of scikit-learn classifiers, such as \n",
    "            sklearn.neural_network.MLPClassifier, or Keras networks, of type \n",
    "            keras.models.Model. The classifiers are assumed to have been fitted \n",
    "            on the same set of features to classify only two target classes \n",
    "            either using their respective  `fit`-methods, or using the \n",
    "            `utilities.fit` method. These are specified in the function call as \n",
    "            e.g.:\n",
    "            ```\n",
    "            plot.roc(clf1, clf2, clf3, X=X_test, y=y_test);\n",
    "            ```\n",
    "            *Please note* that the remaining arguments have to be specified as \n",
    "            keywords, i.e. using the `..., kw=<something>, ...` syntax suggested \n",
    "            above.\n",
    "        X: numpy.array, of shape (nb_samples, nb_features), containing the array \n",
    "            of features on which the classifier(s) should be evaluated.\n",
    "        y: numpy.array, of shape (nb_samples, 1), containing the list targets \n",
    "            classes, assumed to be either 0 or 1.\n",
    "        target_eff: Float, the target signal (y = 1) efficiency at which the \n",
    "            corresponding background rejection rate should be evaluated.\n",
    "        scale: String, either 'log' or 'linear', specifying the type of y-axis \n",
    "            scale to draw.\n",
    "            \n",
    "    Raises:\n",
    "        AssertionError, if any of the checks fail.\n",
    "        \n",
    "    Returns:\n",
    "        pyplot.figure containing the ROC curve plot.\n",
    "    \"\"\"\n",
    "    \n",
    "    # Check(s)\n",
    "#     assert X is not None, \\\n",
    "#         \"Please specify a testing dataset, `X`.\"\n",
    "    assert y is not None, \\\n",
    "        \"Please specify true labels, `y`.\"\n",
    "#     assert X.shape[0] == y.shape[0]\n",
    "    assert len(y.squeeze().shape) == 1\n",
    "    \n",
    "    # Import(s)\n",
    "    from sklearn.metrics import roc_curve    \n",
    "    \n",
    "    # Create figure\n",
    "    fig, ax = plt.subplots(figsize=(5,4))\n",
    "    \n",
    "    # Random guessing line\n",
    "    tpr = np.linspace(0, 1, 200 + 1, endpoint=True)[1:]\n",
    "    ax.plot(tpr, 1./tpr, ls='--', c=\"blue\",label='No Skill')\n",
    "    \n",
    "    # ROC curves\n",
    "    rocs = list()\n",
    "    for clf in clfs:\n",
    "#         pred = get_output(clf, X)\n",
    "        sign = 1. if pred[y == 1].mean() > pred[y == 0].mean() else -1.\n",
    "        fpr, tpr, _ = roc_curve(y, sign * pred)\n",
    "        \n",
    "        # Filter out entries with no background passing\n",
    "        msk = (fpr > 0)\n",
    "        tpr = tpr[msk]\n",
    "        fpr = fpr[msk]\n",
    "        \n",
    "        # Plot ROC curve\n",
    "        ax.plot(tpr, 1./fpr, c=\"orange\",marker=\".\")#, label=_utilities.get_network_name(clf))\n",
    "        \n",
    "        # Store efficiency arrays\n",
    "        rocs.append((tpr, fpr))\n",
    "        pass\n",
    "    \n",
    "    # Indicate best result\n",
    "    best_rejection = -np.inf\n",
    "    best_clfs      = []\n",
    "    ax.axvline(target_eff, c='darkgray', ls=':', lw=1)\n",
    "    for ix, (clf, (tpr, fpr)) in enumerate(zip(clfs, rocs)):\n",
    "        if target_eff < tpr.min():\n",
    "            print(\"No valid background rejection rate at target efficiency ({:.0f}%) for model: {}\")#.format(target_eff * 100., _utilities.get_network_name(clf)))\n",
    "            best_rejection = np.inf\n",
    "            best_clfs.append(ix)\n",
    "            continue\n",
    "            \n",
    "        rejection = np.interp(target_eff, tpr, 1./fpr)\n",
    "      \n",
    "        if rejection > best_rejection:\n",
    "            best_rejection = rejection\n",
    "            best_clfs.append(ix)\n",
    "            pass\n",
    "        pass\n",
    "         \n",
    "    # Decorations\n",
    "    ax.set_yscale(scale)\n",
    "    ax.set_xlim(0, 1)\n",
    "    ax.set_xlabel(\"Signal efficiency\")\n",
    "    ax.set_ylabel(\"Background rejection factor\")\n",
    "   \n",
    "    if not np.isinf(best_rejection):\n",
    "        frac = 0.03\n",
    "        \n",
    "        x = target_eff\n",
    "        y = best_rejection\n",
    "        y1, y2 = ax.get_ylim()\n",
    "        \n",
    "        logyDraw = (np.log10(y) - np.log10(y1) + frac * (np.log10(y2) - np.log10(y1))) + np.log10(y1)\n",
    "\n",
    "        xDraw = x - frac * (1. - 0.)\n",
    "        yDraw = np.power(10, logyDraw)\n",
    "\n",
    "        ax.plot(target_eff, best_rejection, 'r*')\n",
    "        digits = 1 if best_rejection < 100 else 0\n",
    "        ax.text(xDraw, yDraw, f'x{{:.{digits}f}}'.format(best_rejection), fontdict={'weight': 600})\n",
    "        pass\n",
    "    \n",
    "    # Draw legend and boldface the best instance(s)\n",
    "    l = ax.legend()\n",
    "    plt.xlim(xlim)\n",
    "    for ix, text in enumerate(l.get_texts()[1:]):\n",
    "        if ix in best_clfs:\n",
    "            text._fontproperties = l.get_texts()[0]._fontproperties.copy()\n",
    "            text.set_weight(600)\n",
    "            pass\n",
    "        pass\n",
    "   \n",
    "    return fig"
   ]
  },
  {
   "cell_type": "code",
   "execution_count": null,
   "metadata": {},
   "outputs": [],
   "source": [
    "print(len(lr_probs))\n",
    "f = roc(net,y=Y_test,pred=lr_probs,target_eff=0.971,scale='log',xlim=[0.8,1])\n",
    "# plt.show()\n",
    "f.savefig(\"CNNroc2.png\",bbox_inches='tight',dpi=500)"
   ]
  },
  {
   "cell_type": "code",
   "execution_count": null,
   "metadata": {},
   "outputs": [],
   "source": []
  }
 ],
 "metadata": {
  "kernelspec": {
   "display_name": "SparseAIEnv",
   "language": "python",
   "name": "sparseaienv"
  },
  "language_info": {
   "codemirror_mode": {
    "name": "ipython",
    "version": 3
   },
   "file_extension": ".py",
   "mimetype": "text/x-python",
   "name": "python",
   "nbconvert_exporter": "python",
   "pygments_lexer": "ipython3",
   "version": "3.7.6"
  }
 },
 "nbformat": 4,
 "nbformat_minor": 2
}
